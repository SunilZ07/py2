{
 "cells": [
  {
   "cell_type": "markdown",
   "metadata": {},
   "source": [
    "# Assignment no. 2"
   ]
  },
  {
   "cell_type": "markdown",
   "metadata": {},
   "source": [
    "## Task 1:-"
   ]
  },
  {
   "cell_type": "code",
   "execution_count": 2,
   "metadata": {},
   "outputs": [
    {
     "name": "stdout",
     "output_type": "stream",
     "text": [
      "Enter the list elements:1,2,3,4,5\n",
      "[1, 2, 3, 4, 5]\n",
      "Whice operation to perform for reducing(+,-,*,/)+\n",
      "15\n"
     ]
    }
   ],
   "source": [
    "# 1.1 Write a Python Program to implement your own myreduce() function which works exactly like Python's built-in function reduce()\n",
    "def operation():\n",
    "    a=0\n",
    "    for i in range(len(l1)):\n",
    "        if i==len(l1):\n",
    "            break\n",
    "        else:\n",
    "            a=a+l1[i]\n",
    "\n",
    "    print(a)\n",
    "\n",
    "def operation1():\n",
    "    a=0\n",
    "    for i in range(len(l1)):\n",
    "        if i==len(l1):\n",
    "            break\n",
    "        else:\n",
    "            a=a-l1[i]\n",
    "\n",
    "    print(a)\n",
    "def operation2():\n",
    "    \n",
    "    a=1\n",
    "    for i in range(len(l1)):\n",
    "        if i==len(l1):\n",
    "            break\n",
    "        else:\n",
    "            a=a*l1[i]\n",
    "\n",
    "    print(a)\n",
    "\n",
    "    \n",
    "def operation3():\n",
    "    \n",
    "    a=1\n",
    "    for i in range(len(l1)):\n",
    "        if i==len(l1):\n",
    "            break\n",
    "        else:\n",
    "            a=a/l1[i]\n",
    "\n",
    "    print(a)\n",
    "\n",
    "    \n",
    "x=input(\"Enter the list elements:\")\n",
    "y=x.split(\",\")\n",
    "\n",
    "l1=[]\n",
    "for i in range(len(y)):\n",
    "    l1.append(int(y[i]))\n",
    "print(l1)\n",
    "    \n",
    "enter=input(\"Whice operation to perform for reducing(+,-,*,/)\")\n",
    "    \n",
    "if(enter==\"+\"):\n",
    "    operation()\n",
    "elif(enter==\"-\"):\n",
    "    operation1()\n",
    "elif(enter==\"*\"):\n",
    "    operation2()\n",
    "elif(enter==\"/\"):\n",
    "    operation3()\n",
    "else:\n",
    "    print(\"choose the correct opearand\")\n",
    "\n"
   ]
  },
  {
   "cell_type": "code",
   "execution_count": 12,
   "metadata": {},
   "outputs": [
    {
     "name": "stdout",
     "output_type": "stream",
     "text": [
      "Enter the list elements:1,2,3,4,5,6,7,8,9,10\n",
      "[1, 2, 3, 4, 5, 6, 7, 8, 9, 10]\n",
      "[2, 4, 6, 8, 10]\n"
     ]
    }
   ],
   "source": [
    "# 1.2  program to implement your own myfilter() function which works exactly like Python's built-in function filter()\n",
    "x=input(\"Enter the list elements:\")\n",
    "y=x.split(\",\")\n",
    "\n",
    "l1=[]\n",
    "for i in range(len(y)):\n",
    "    l1.append(int(y[i]))\n",
    "print(l1)\n",
    "l2=[]\n",
    "def is_even():\n",
    "\n",
    "    for i in l1:\n",
    "        if i%2==0:\n",
    "            l2.append(i)\n",
    "    print(l2)\n",
    "def is_odd():\n",
    "    for i in l1:\n",
    "        if i%2!=0:\n",
    "            l2.append(i)\n",
    "    print(l2)\n",
    "is_even()\n",
    "    \n"
   ]
  },
  {
   "cell_type": "markdown",
   "metadata": {},
   "source": [
    "## List comprehensions:-"
   ]
  },
  {
   "cell_type": "code",
   "execution_count": 13,
   "metadata": {},
   "outputs": [],
   "source": [
    "# 1.\n",
    "l1=[65,67,65,68,71,73,76,68]\n",
    "a=[chr(x) for x in l1]\n",
    "#print(a)\n"
   ]
  },
  {
   "cell_type": "code",
   "execution_count": 14,
   "metadata": {},
   "outputs": [],
   "source": [
    "# 2.\n",
    "b=[i*j for i in [\"x\",\"y\",\"z\"]  for j in range(1,5)]\n",
    "#print(b)"
   ]
  },
  {
   "cell_type": "code",
   "execution_count": 15,
   "metadata": {},
   "outputs": [],
   "source": [
    "# 3.\n",
    "c=[i*j for i in range(1,5) for j in [\"x\",\"y\",\"z\"]]"
   ]
  },
  {
   "cell_type": "code",
   "execution_count": 16,
   "metadata": {},
   "outputs": [],
   "source": [
    "# 4.\n",
    "d=[[i+j] for i in range(1,4) for j in range(1,4)]\n",
    "#print(d)"
   ]
  },
  {
   "cell_type": "code",
   "execution_count": 17,
   "metadata": {},
   "outputs": [],
   "source": [
    "# 5.\n",
    "e=[[x,y,z,a] for x in range(2,6) for y in range(x+1,7) if y== x+1 for z in range(y+1,8) if z== y+1 for a in range(z+1,9) if a==z+1]\n",
    "#print(e)"
   ]
  },
  {
   "cell_type": "code",
   "execution_count": 18,
   "metadata": {},
   "outputs": [],
   "source": [
    "# 6.\n",
    "f=[(j,i) for i in range(1,4) for j in range(1,4)]\n",
    "#print(f)"
   ]
  },
  {
   "cell_type": "markdown",
   "metadata": {},
   "source": [
    "### List comprehensions Output:-"
   ]
  },
  {
   "cell_type": "code",
   "execution_count": 19,
   "metadata": {},
   "outputs": [
    {
     "name": "stdout",
     "output_type": "stream",
     "text": [
      "['A', 'C', 'A', 'D', 'G', 'I', 'L', 'D']\n",
      "['x', 'xx', 'xxx', 'xxxx', 'y', 'yy', 'yyy', 'yyyy', 'z', 'zz', 'zzz', 'zzzz']\n",
      "['x', 'y', 'z', 'xx', 'yy', 'zz', 'xxx', 'yyy', 'zzz', 'xxxx', 'yyyy', 'zzzz']\n",
      "[[2], [3], [4], [3], [4], [5], [4], [5], [6]]\n",
      "[[2, 3, 4, 5], [3, 4, 5, 6], [4, 5, 6, 7], [5, 6, 7, 8]]\n",
      "[(1, 1), (2, 1), (3, 1), (1, 2), (2, 2), (3, 2), (1, 3), (2, 3), (3, 3)]\n"
     ]
    }
   ],
   "source": [
    "print(a)\n",
    "print(b)\n",
    "print(c)\n",
    "print(d)\n",
    "print(e)\n",
    "print(f)"
   ]
  },
  {
   "cell_type": "code",
   "execution_count": 20,
   "metadata": {},
   "outputs": [
    {
     "name": "stdout",
     "output_type": "stream",
     "text": [
      "Enter the words separated by commas:sunil,maurya,hii,how,are,you\n",
      "The longets word is: 'maurya' and its length is '6'\n"
     ]
    }
   ],
   "source": [
    "# 3.finding the longest word length from the input:\n",
    "a=input(\"Enter the words separated by commas:\")\n",
    "b=a.split(\",\")\n",
    "max=len(b[0])\n",
    "for i in b:\n",
    "    if len(i)>max:\n",
    "        max_word=i\n",
    "        max=len(i)\n",
    "print(\"The longets word is: '{0}' and its length is '{1}'\".format(max_word,max))"
   ]
  },
  {
   "cell_type": "markdown",
   "metadata": {},
   "source": [
    "## Task 2:-"
   ]
  },
  {
   "cell_type": "code",
   "execution_count": 108,
   "metadata": {},
   "outputs": [],
   "source": [
    "# 1.1 Finding the area of triangle using inheritance:\n",
    "class sides:\n",
    "    def __init__(self,a,b,c):\n",
    "        self.a=a\n",
    "        self.b=b\n",
    "        self.c=c\n"
   ]
  },
  {
   "cell_type": "code",
   "execution_count": 109,
   "metadata": {},
   "outputs": [],
   "source": [
    "class formula(sides):\n",
    "    def __init__(self,*args):\n",
    "        super(formula,self).__init__(*args)\n",
    "        \n",
    "    def ans(self):\n",
    "        self.s=(self.a+self.b+self.c)/2\n",
    "        self.triangle=(self.s*(self.s-self.a)*(self.s-self.b)*(self.s-self.c)) ** 0.5\n",
    "        return self.triangle\n",
    "   \n",
    "   "
   ]
  },
  {
   "cell_type": "code",
   "execution_count": 118,
   "metadata": {},
   "outputs": [
    {
     "name": "stdout",
     "output_type": "stream",
     "text": [
      "Enter value of first side:4\n",
      "Enter value of second side:5\n",
      "Enter value of third side6\n",
      "area of triangle is: 9.921567416492215\n"
     ]
    }
   ],
   "source": [
    "x=int(input(\"Enter value of first side:\"))\n",
    "y=int(input(\"Enter value of second side:\"))\n",
    "z=int(input(\"Enter value of third side\"))\n",
    "f=formula(x,y,z)\n",
    "print(\"area of triangle is:\",f.ans())"
   ]
  },
  {
   "cell_type": "code",
   "execution_count": 125,
   "metadata": {},
   "outputs": [
    {
     "name": "stdout",
     "output_type": "stream",
     "text": [
      "Enter the words separated by commas:hello,good,morning,everyon,how,are,you\n",
      "Enter an integer:5\n",
      "These are the list of words which are longer than  5 ['morning', 'everyon']\n"
     ]
    }
   ],
   "source": [
    "# 1.2 filter_long_words() that takes a list of words and an integer n and returns the list of words that are longer than n.\n",
    "\n",
    "\n",
    "a=input(\"Enter the words separated by commas:\")\n",
    "b=a.split(\",\")\n",
    "max=int(input(\"Enter an integer:\"))\n",
    "l1=[]\n",
    "for i in b:\n",
    "    if len(i)>max:\n",
    "        l1.append(i)\n",
    "print(\"These are the list of words which are longer than \",max,l1)\n"
   ]
  },
  {
   "cell_type": "code",
   "execution_count": 139,
   "metadata": {},
   "outputs": [
    {
     "name": "stdout",
     "output_type": "stream",
     "text": [
      "Enter list of words separated by commas:eavi,sonu,monu,darshan\n",
      "['eavi', 'sonu', 'monu', 'darshan']\n"
     ]
    },
    {
     "data": {
      "text/plain": [
       "[4, 4, 4, 7]"
      ]
     },
     "execution_count": 139,
     "metadata": {},
     "output_type": "execute_result"
    }
   ],
   "source": [
    "# 2.1  program that maps list of words into a list of integers representing the lengths of the corresponding words.\n",
    "def length(a):\n",
    "    return len(a)\n",
    "words=input(\"Enter list of words separated by commas:\")\n",
    "l1=words.split(\",\")\n",
    "print(l1)\n",
    "list(map(length,l1))"
   ]
  },
  {
   "cell_type": "code",
   "execution_count": 162,
   "metadata": {},
   "outputs": [
    {
     "name": "stdout",
     "output_type": "stream",
     "text": [
      "t\n"
     ]
    },
    {
     "data": {
      "text/plain": [
       "False"
      ]
     },
     "execution_count": 162,
     "metadata": {},
     "output_type": "execute_result"
    }
   ],
   "source": [
    "# 2.2 Python function which takes a character (i.e. a string of length 1) and returns True if it is a vowel, False otherwise\n",
    "list1=[ord(\"a\"),ord(\"e\"),ord(\"i\"),ord(\"o\"),ord(\"u\"),ord(\"A\"),ord(\"E\"),ord(\"I\"),ord(\"O\"),ord(\"U\")]\n",
    "a=input(\"Enter your character:\")\n",
    "def check():\n",
    "    \n",
    "    if ord(a) in list1:\n",
    "        return True\n",
    "    else :\n",
    "        return False\n",
    "check()"
   ]
  },
  {
   "cell_type": "markdown",
   "metadata": {},
   "source": []
  },
  {
   "cell_type": "code",
   "execution_count": 11,
   "metadata": {},
   "outputs": [
    {
     "name": "stdout",
     "output_type": "stream",
     "text": [
      "Enter the list elements:1,2,3,4,5,6,7,8,9,19\n",
      "[1, 2, 3, 4, 5, 6, 7, 8, 9, 19]\n",
      "[2, 4, 6, 8]\n"
     ]
    }
   ],
   "source": [
    "\n",
    "\n",
    "    \n",
    "    "
   ]
  },
  {
   "cell_type": "code",
   "execution_count": null,
   "metadata": {},
   "outputs": [],
   "source": []
  }
 ],
 "metadata": {
  "kernelspec": {
   "display_name": "Python 3",
   "language": "python",
   "name": "python3"
  },
  "language_info": {
   "codemirror_mode": {
    "name": "ipython",
    "version": 3
   },
   "file_extension": ".py",
   "mimetype": "text/x-python",
   "name": "python",
   "nbconvert_exporter": "python",
   "pygments_lexer": "ipython3",
   "version": "3.7.6"
  }
 },
 "nbformat": 4,
 "nbformat_minor": 4
}
